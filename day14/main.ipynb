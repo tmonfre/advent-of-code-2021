{
 "cells": [
  {
   "cell_type": "markdown",
   "id": "146e0b50",
   "metadata": {},
   "source": [
    "# Advent of Code 2021 - Day 14"
   ]
  },
  {
   "cell_type": "markdown",
   "id": "e91339ec",
   "metadata": {},
   "source": [
    "## File Input"
   ]
  },
  {
   "cell_type": "code",
   "execution_count": 142,
   "id": "7a82af91",
   "metadata": {},
   "outputs": [],
   "source": [
    "input = open('./input.txt', \"r\")\n",
    "rows = [line.strip(\"\\n\") for line in input]\n",
    "input.close()\n",
    "\n",
    "base_polymer = rows[0]\n",
    "rules = {}\n",
    "\n",
    "for i,j in [x.split(\" -> \") for x in rows[2:]]:\n",
    "    rules[i] = j"
   ]
  },
  {
   "cell_type": "markdown",
   "id": "a506a333",
   "metadata": {},
   "source": [
    "## Part 1"
   ]
  },
  {
   "cell_type": "code",
   "execution_count": 143,
   "id": "eb5b7f35",
   "metadata": {},
   "outputs": [
    {
     "data": {
      "text/plain": [
       "4244"
      ]
     },
     "execution_count": 143,
     "metadata": {},
     "output_type": "execute_result"
    }
   ],
   "source": [
    "N_STEPS = 10\n",
    "\n",
    "polymer = base_polymer\n",
    "\n",
    "for _ in range(N_STEPS):\n",
    "    new_polymer = polymer\n",
    "    polymer_pointer = 1\n",
    "    \n",
    "    for pair_start in range(len(polymer) - 1):\n",
    "        rule_association = polymer[pair_start] + polymer[pair_start + 1]\n",
    "        \n",
    "        if rule_association in rules:\n",
    "            new_polymer = new_polymer[:polymer_pointer] + rules[rule_association] + new_polymer[polymer_pointer:]\n",
    "            polymer_pointer += 1\n",
    "\n",
    "        polymer_pointer += 1\n",
    "    \n",
    "    polymer = new_polymer\n",
    "\n",
    "def generate_element_counts(polymer):\n",
    "    element_counts = {}\n",
    "\n",
    "    for p in polymer:\n",
    "        if p not in element_counts:\n",
    "            element_counts[p] = 0\n",
    "        element_counts[p] += 1\n",
    "        \n",
    "    return element_counts\n",
    "        \n",
    "def find_max_min(element_counts):\n",
    "    max = 0\n",
    "    min = 100000000000000\n",
    "\n",
    "    for p in element_counts:\n",
    "        if element_counts[p] > max:\n",
    "            max = element_counts[p]\n",
    "\n",
    "        if element_counts[p] < min:\n",
    "            min = element_counts[p]\n",
    "\n",
    "    return max, min\n",
    "\n",
    "max, min = find_max_min(generate_element_counts(polymer))\n",
    "max - min"
   ]
  },
  {
   "cell_type": "markdown",
   "id": "a1a0a93a",
   "metadata": {},
   "source": [
    "## Part 2"
   ]
  },
  {
   "cell_type": "code",
   "execution_count": 144,
   "id": "c641594d",
   "metadata": {},
   "outputs": [
    {
     "data": {
      "text/plain": [
       "4807056953866"
      ]
     },
     "execution_count": 144,
     "metadata": {},
     "output_type": "execute_result"
    }
   ],
   "source": [
    "N_STEPS = 40\n",
    "polymer_count = {}\n",
    "\n",
    "# generate dictionary of polymers\n",
    "for polymer_index in range(len(base_polymer) - 1):\n",
    "    p = base_polymer[polymer_index] + base_polymer[polymer_index+1]\n",
    "    if p not in polymer_count:\n",
    "        polymer_count[p] = 0\n",
    "    polymer_count[p] += 1\n",
    "    \n",
    "# perform steps\n",
    "for _ in range(N_STEPS):\n",
    "    new_dict = {}\n",
    "    for k,p in polymer_count.items():\n",
    "        new_dict[k] = p\n",
    "        \n",
    "    for polymer in polymer_count:\n",
    "        if polymer in rules:\n",
    "            new_left = polymer[0] + rules[polymer]\n",
    "            new_right = rules[polymer] + polymer[1]\n",
    "                        \n",
    "            if new_left not in new_dict:\n",
    "                new_dict[new_left] = 0\n",
    "                \n",
    "            if new_right not in new_dict:\n",
    "                new_dict[new_right] = 0\n",
    "                                \n",
    "            new_dict[new_left] += polymer_count[polymer]\n",
    "            new_dict[new_right] += polymer_count[polymer]\n",
    "            new_dict[polymer] -= polymer_count[polymer]\n",
    "        \n",
    "    polymer_count = new_dict\n",
    "    \n",
    "# generate character count\n",
    "character_count = {}\n",
    "for polymer in polymer_count:\n",
    "    if polymer[0] not in character_count:\n",
    "        character_count[polymer[0]] = 0\n",
    "        \n",
    "    character_count[polymer[0]] += polymer_count[polymer]\n",
    "    \n",
    "character_count[base_polymer[-1]] += 1\n",
    "\n",
    "# output max,min\n",
    "max, min = find_max_min(character_count)\n",
    "max - min"
   ]
  }
 ],
 "metadata": {
  "kernelspec": {
   "display_name": "Python 3 (ipykernel)",
   "language": "python",
   "name": "python3"
  },
  "language_info": {
   "codemirror_mode": {
    "name": "ipython",
    "version": 3
   },
   "file_extension": ".py",
   "mimetype": "text/x-python",
   "name": "python",
   "nbconvert_exporter": "python",
   "pygments_lexer": "ipython3",
   "version": "3.9.4"
  }
 },
 "nbformat": 4,
 "nbformat_minor": 5
}

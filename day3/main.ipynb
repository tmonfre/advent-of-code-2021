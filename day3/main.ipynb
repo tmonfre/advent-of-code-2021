{
 "cells": [
  {
   "cell_type": "markdown",
   "id": "146e0b50",
   "metadata": {},
   "source": [
    "# Advent of Code 2021 - Day 3"
   ]
  },
  {
   "cell_type": "markdown",
   "id": "e91339ec",
   "metadata": {},
   "source": [
    "## File Input"
   ]
  },
  {
   "cell_type": "code",
   "execution_count": 35,
   "id": "7a82af91",
   "metadata": {},
   "outputs": [],
   "source": [
    "input = open('./input.txt', \"r\")\n",
    "rows = []\n",
    "\n",
    "for line in input:\n",
    "    rows.append(line.strip('\\n'))\n",
    "\n",
    "input.close()"
   ]
  },
  {
   "cell_type": "markdown",
   "id": "a506a333",
   "metadata": {},
   "source": [
    "## Part 1"
   ]
  },
  {
   "cell_type": "code",
   "execution_count": 21,
   "id": "01cd6664",
   "metadata": {},
   "outputs": [
    {
     "data": {
      "text/plain": [
       "1997414"
      ]
     },
     "execution_count": 21,
     "metadata": {},
     "output_type": "execute_result"
    }
   ],
   "source": [
    "gamma_rate = \"\"\n",
    "epsilon_rate = \"\"\n",
    "\n",
    "for position in range(len(rows[0])):\n",
    "    zero_count = 0\n",
    "    \n",
    "    for number in rows:\n",
    "        zero_count += 1 if number[position] == \"0\" else 0\n",
    "                \n",
    "    zero_most = zero_count >= len(rows) / 2\n",
    "        \n",
    "    gamma_rate += \"0\" if zero_most else \"1\"\n",
    "    epsilon_rate += \"1\" if zero_most else \"0\"\n",
    "    \n",
    "gamma_int = int(gamma_rate, 2)\n",
    "epsilon_int = int(epsilon_rate, 2)\n",
    "\n",
    "gamma_int * epsilon_int"
   ]
  },
  {
   "cell_type": "markdown",
   "id": "a1a0a93a",
   "metadata": {},
   "source": [
    "## Part 2"
   ]
  },
  {
   "cell_type": "code",
   "execution_count": 37,
   "id": "81db771f",
   "metadata": {},
   "outputs": [
    {
     "data": {
      "text/plain": [
       "1032597"
      ]
     },
     "execution_count": 37,
     "metadata": {},
     "output_type": "execute_result"
    }
   ],
   "source": [
    "def filter_values(initial_array, calculate_keep_value):\n",
    "    candidate_rows = rows\n",
    "    bit_position = 0\n",
    "\n",
    "    while len(candidate_rows) > 1 and bit_position <= len(rows[0]) - 1:\n",
    "        num_ones = 0\n",
    "\n",
    "        for row in candidate_rows:\n",
    "            num_ones += 1 if row[bit_position] == \"1\" else 0\n",
    "\n",
    "        keep_val = calculate_keep_value(num_ones, candidate_rows)\n",
    "        candidate_rows = [bin_num for bin_num in candidate_rows if bin_num[bit_position] == str(keep_val)]    \n",
    "        bit_position += 1\n",
    "\n",
    "    return int(candidate_rows[0], 2)\n",
    "\n",
    "oxygen_generator_value = filter_values(rows, lambda num_ones, candidate_rows: 1 if num_ones >= len(candidate_rows) / 2 else 0)\n",
    "co2_scrubber_rating = filter_values(rows, lambda num_ones, candidate_rows: 1 if num_ones < len(candidate_rows) / 2 else 0)\n",
    "\n",
    "oxygen_generator_value * co2_scrubber_rating"
   ]
  }
 ],
 "metadata": {
  "kernelspec": {
   "display_name": "Python 3 (ipykernel)",
   "language": "python",
   "name": "python3"
  },
  "language_info": {
   "codemirror_mode": {
    "name": "ipython",
    "version": 3
   },
   "file_extension": ".py",
   "mimetype": "text/x-python",
   "name": "python",
   "nbconvert_exporter": "python",
   "pygments_lexer": "ipython3",
   "version": "3.9.4"
  }
 },
 "nbformat": 4,
 "nbformat_minor": 5
}

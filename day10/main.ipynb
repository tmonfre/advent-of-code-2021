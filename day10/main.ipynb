{
 "cells": [
  {
   "cell_type": "markdown",
   "id": "146e0b50",
   "metadata": {},
   "source": [
    "# Advent of Code 2021 - Day 10"
   ]
  },
  {
   "cell_type": "markdown",
   "id": "e91339ec",
   "metadata": {},
   "source": [
    "## File Input"
   ]
  },
  {
   "cell_type": "code",
   "execution_count": 20,
   "id": "7a82af91",
   "metadata": {},
   "outputs": [],
   "source": [
    "input = open('./input.txt', \"r\")\n",
    "rows = [line.strip(\"\\n\") for line in input]\n",
    "input.close()"
   ]
  },
  {
   "cell_type": "markdown",
   "id": "a506a333",
   "metadata": {},
   "source": [
    "## Part 1"
   ]
  },
  {
   "cell_type": "code",
   "execution_count": 21,
   "id": "eb5b7f35",
   "metadata": {},
   "outputs": [
    {
     "data": {
      "text/plain": [
       "464991"
      ]
     },
     "execution_count": 21,
     "metadata": {},
     "output_type": "execute_result"
    }
   ],
   "source": [
    "def is_opening_character(chr):\n",
    "    return chr == '(' or chr == '[' or chr == '{' or chr == '<'\n",
    "\n",
    "def is_match(chr1, chr2):\n",
    "    return chr1 == '(' and chr2 == ')' or \\\n",
    "            chr1 == '[' and chr2 == ']' or \\\n",
    "            chr1 == '{' and chr2 == '}' or \\\n",
    "            chr1 == '<' and chr2 == '>'\n",
    "\n",
    "def is_corrupted(line):\n",
    "    stack = []\n",
    "    \n",
    "    for chr in line:    \n",
    "        if is_opening_character(chr):\n",
    "            stack.append(chr)\n",
    "        elif not is_match(stack.pop(), chr):\n",
    "            return chr\n",
    "    \n",
    "    return None\n",
    "\n",
    "error_scores = {\n",
    "    \")\": 3,\n",
    "    \"]\": 57,\n",
    "    \"}\": 1197,\n",
    "    \">\": 25137,\n",
    "    None: 0\n",
    "}\n",
    "\n",
    "sum([error_scores[is_corrupted(line)] for line in rows])"
   ]
  },
  {
   "cell_type": "markdown",
   "id": "a1a0a93a",
   "metadata": {},
   "source": [
    "## Part 2"
   ]
  },
  {
   "cell_type": "code",
   "execution_count": 22,
   "id": "c641594d",
   "metadata": {},
   "outputs": [
    {
     "data": {
      "text/plain": [
       "3662008566"
      ]
     },
     "execution_count": 22,
     "metadata": {},
     "output_type": "execute_result"
    }
   ],
   "source": [
    "def get_closing_character(chr):\n",
    "    if chr == '(':\n",
    "        return ')'\n",
    "    elif chr == '[':\n",
    "        return ']'\n",
    "    elif chr == '{':\n",
    "        return '}'\n",
    "    elif chr == '<':\n",
    "        return '>'\n",
    "\n",
    "def get_completion_string(line):\n",
    "    stack = []\n",
    "    \n",
    "    for chr in line:\n",
    "        if is_opening_character(chr):\n",
    "            stack.append(chr)\n",
    "        else: stack.pop()\n",
    "            \n",
    "    output = \"\"\n",
    "    \n",
    "    while len(stack) > 0:\n",
    "        output += get_closing_character(stack.pop())\n",
    "        \n",
    "    return output\n",
    "\n",
    "def calculate_score(completion_string):\n",
    "    score_multipliers = { \")\": 1, \"]\": 2, \"}\": 3, \">\": 4 }\n",
    "    score = 0\n",
    "    \n",
    "    for chr in completion_string:\n",
    "        score *= 5\n",
    "        score += score_multipliers[chr]\n",
    "        \n",
    "    return score\n",
    "        \n",
    "    \n",
    "incomplete_rows = [line for line in rows if not is_corrupted(line)]\n",
    "\n",
    "scores = sorted([calculate_score(get_completion_string(line)) for line in incomplete_rows])\n",
    "\n",
    "scores[len(scores) // 2]"
   ]
  }
 ],
 "metadata": {
  "kernelspec": {
   "display_name": "Python 3 (ipykernel)",
   "language": "python",
   "name": "python3"
  },
  "language_info": {
   "codemirror_mode": {
    "name": "ipython",
    "version": 3
   },
   "file_extension": ".py",
   "mimetype": "text/x-python",
   "name": "python",
   "nbconvert_exporter": "python",
   "pygments_lexer": "ipython3",
   "version": "3.9.4"
  }
 },
 "nbformat": 4,
 "nbformat_minor": 5
}

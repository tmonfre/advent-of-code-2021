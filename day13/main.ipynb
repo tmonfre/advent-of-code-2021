{
 "cells": [
  {
   "cell_type": "markdown",
   "id": "146e0b50",
   "metadata": {},
   "source": [
    "# Advent of Code 2021 - Day 13"
   ]
  },
  {
   "cell_type": "markdown",
   "id": "e91339ec",
   "metadata": {},
   "source": [
    "## File Input"
   ]
  },
  {
   "cell_type": "code",
   "execution_count": 84,
   "id": "7a82af91",
   "metadata": {},
   "outputs": [],
   "source": [
    "input = open('./input.txt', \"r\")\n",
    "rows = [line.strip(\"\\n\") for line in input]\n",
    "input.close()\n",
    "\n",
    "starting_dots = []\n",
    "fold_instructions = []\n",
    "found_fold_start = False\n",
    "\n",
    "for row in rows:\n",
    "    if len(row) == 0:\n",
    "        found_fold_start = True\n",
    "    elif not found_fold_start:\n",
    "        starting_dots.append([int(i) for i in row.split(\",\")])\n",
    "    else:\n",
    "        split = row.strip(\"fold along \").split(\"=\")\n",
    "        fold_instructions.append([split[0] == \"x\", int(split[1])])\n",
    "        \n",
    "max_x = 0\n",
    "max_y = 0\n",
    "\n",
    "for x, y in starting_dots:\n",
    "    if x > max_x:\n",
    "        max_x = x\n",
    "    \n",
    "    if y > max_y:\n",
    "        max_y = y\n",
    "        \n",
    "def generate_matrix(n_rows, n_cols, starting_value):\n",
    "    return [[starting_value for _ in range(n_cols+1)] for _ in range(n_rows+1)]"
   ]
  },
  {
   "cell_type": "markdown",
   "id": "a506a333",
   "metadata": {},
   "source": [
    "## Part 1"
   ]
  },
  {
   "cell_type": "code",
   "execution_count": 85,
   "id": "eb5b7f35",
   "metadata": {},
   "outputs": [
    {
     "data": {
      "text/plain": [
       "795"
      ]
     },
     "execution_count": 85,
     "metadata": {},
     "output_type": "execute_result"
    }
   ],
   "source": [
    "matrix = generate_matrix(max_y, max_x, False)\n",
    "\n",
    "for col, row in starting_dots:\n",
    "    matrix[row][col] = True\n",
    "    \n",
    "def do_fold(starting_matrix, is_x, fold_line):\n",
    "    matrix = [[j for j in i] for i in starting_matrix]\n",
    "    \n",
    "    if is_x:\n",
    "        for col in range(fold_line + 1, len(matrix[0])):\n",
    "            target_col = fold_line - (col - fold_line)\n",
    "                        \n",
    "            for row in range(len(matrix)):                \n",
    "                if matrix[row][col]:\n",
    "                    matrix[row][target_col] = True\n",
    "                \n",
    "        new_matrix = []\n",
    "\n",
    "        for row in range(len(matrix)):\n",
    "            r = []\n",
    "            for col in range(fold_line):\n",
    "                r.append(matrix[row][col])\n",
    "            new_matrix.append(r)\n",
    "                \n",
    "        return new_matrix\n",
    "    else:\n",
    "        for row in range(fold_line + 1, len(matrix)):\n",
    "            target_row = fold_line - (row - fold_line)\n",
    "                        \n",
    "            for col in range(len(matrix[row])):\n",
    "                if matrix[row][col]:\n",
    "                    matrix[target_row][col] = True\n",
    "                \n",
    "        return matrix[:fold_line]\n",
    "\n",
    "after_first_fold = do_fold(matrix, fold_instructions[0][0], fold_instructions[0][1])\n",
    "n_dots = 0\n",
    "\n",
    "for row in after_first_fold:\n",
    "    for entry in row:\n",
    "        n_dots += 1 if entry else 0\n",
    "\n",
    "n_dots"
   ]
  },
  {
   "cell_type": "markdown",
   "id": "a1a0a93a",
   "metadata": {},
   "source": [
    "## Part 2"
   ]
  },
  {
   "cell_type": "code",
   "execution_count": 86,
   "id": "c641594d",
   "metadata": {},
   "outputs": [
    {
     "name": "stdout",
     "output_type": "stream",
     "text": [
      " XX  XXXX   XX X  X X    X  X  XX    XX \n",
      "X  X X       X X X  X    X  X X  X    X \n",
      "X    XXX     X XX   X    X  X X       X \n",
      "X    X       X X X  X    X  X X XX    X \n",
      "X  X X    X  X X X  X    X  X X  X X  X \n",
      " XX  XXXX  XX  X  X XXXX  XX   XXX  XX  \n"
     ]
    }
   ],
   "source": [
    "matrix = generate_matrix(max_y, max_x, False)\n",
    "\n",
    "for col, row in starting_dots:\n",
    "    matrix[row][col] = True\n",
    "    \n",
    "for is_x, fold_line in fold_instructions:\n",
    "    matrix = do_fold(matrix, is_x, fold_line)\n",
    "    \n",
    "for row in matrix:\n",
    "    line = \"\"\n",
    "    \n",
    "    for entry in row:\n",
    "        line += \"X\" if entry else \" \"\n",
    "        \n",
    "    print(line)"
   ]
  }
 ],
 "metadata": {
  "kernelspec": {
   "display_name": "Python 3 (ipykernel)",
   "language": "python",
   "name": "python3"
  },
  "language_info": {
   "codemirror_mode": {
    "name": "ipython",
    "version": 3
   },
   "file_extension": ".py",
   "mimetype": "text/x-python",
   "name": "python",
   "nbconvert_exporter": "python",
   "pygments_lexer": "ipython3",
   "version": "3.9.4"
  }
 },
 "nbformat": 4,
 "nbformat_minor": 5
}

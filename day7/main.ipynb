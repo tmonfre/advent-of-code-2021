{
 "cells": [
  {
   "cell_type": "markdown",
   "id": "146e0b50",
   "metadata": {},
   "source": [
    "# Advent of Code 2021 - Day 7"
   ]
  },
  {
   "cell_type": "markdown",
   "id": "e91339ec",
   "metadata": {},
   "source": [
    "## File Input"
   ]
  },
  {
   "cell_type": "code",
   "execution_count": 7,
   "id": "7a82af91",
   "metadata": {},
   "outputs": [],
   "source": [
    "input = open('./input.txt', \"r\")\n",
    "\n",
    "crab_positions = [int(x) for x in input.readline().split(\",\")]\n",
    "\n",
    "input.close()"
   ]
  },
  {
   "cell_type": "markdown",
   "id": "a506a333",
   "metadata": {},
   "source": [
    "## Part 1"
   ]
  },
  {
   "cell_type": "code",
   "execution_count": 8,
   "id": "01cd6664",
   "metadata": {},
   "outputs": [
    {
     "data": {
      "text/plain": [
       "348664"
      ]
     },
     "execution_count": 8,
     "metadata": {},
     "output_type": "execute_result"
    }
   ],
   "source": [
    "start_position = min(sorted([i for i in crab_positions]))\n",
    "end_position = max(sorted([i for i in crab_positions]))\n",
    "\n",
    "min_cost = None\n",
    "\n",
    "for pos in range(start_position, end_position + 1):\n",
    "    cost = sum([abs(x - pos) for x in crab_positions])\n",
    "    \n",
    "    if min_cost == None or cost < min_cost:\n",
    "        min_cost = cost\n",
    "        \n",
    "min_cost"
   ]
  },
  {
   "cell_type": "markdown",
   "id": "a1a0a93a",
   "metadata": {},
   "source": [
    "## Part 2"
   ]
  },
  {
   "cell_type": "code",
   "execution_count": 14,
   "id": "c641594d",
   "metadata": {},
   "outputs": [
    {
     "data": {
      "text/plain": [
       "100220525"
      ]
     },
     "execution_count": 14,
     "metadata": {},
     "output_type": "execute_result"
    }
   ],
   "source": [
    "start_position = min(sorted([i for i in crab_positions]))\n",
    "end_position = max(sorted([i for i in crab_positions]))\n",
    "\n",
    "def calculate_move_cost(spaces):\n",
    "    return int((spaces*(1+spaces)) / 2)\n",
    "\n",
    "min_cost = None\n",
    "\n",
    "for pos in range(start_position, end_position + 1):\n",
    "    cost = sum([calculate_move_cost(abs(x - pos)) for x in crab_positions])\n",
    "    \n",
    "    if min_cost == None or cost < min_cost:\n",
    "        min_cost = cost\n",
    "        \n",
    "min_cost"
   ]
  }
 ],
 "metadata": {
  "kernelspec": {
   "display_name": "Python 3 (ipykernel)",
   "language": "python",
   "name": "python3"
  },
  "language_info": {
   "codemirror_mode": {
    "name": "ipython",
    "version": 3
   },
   "file_extension": ".py",
   "mimetype": "text/x-python",
   "name": "python",
   "nbconvert_exporter": "python",
   "pygments_lexer": "ipython3",
   "version": "3.9.4"
  }
 },
 "nbformat": 4,
 "nbformat_minor": 5
}

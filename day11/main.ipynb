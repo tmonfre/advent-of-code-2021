{
 "cells": [
  {
   "cell_type": "markdown",
   "id": "146e0b50",
   "metadata": {},
   "source": [
    "# Advent of Code 2021 - Day 11"
   ]
  },
  {
   "cell_type": "markdown",
   "id": "e91339ec",
   "metadata": {},
   "source": [
    "## File Input"
   ]
  },
  {
   "cell_type": "code",
   "execution_count": 75,
   "id": "7a82af91",
   "metadata": {},
   "outputs": [],
   "source": [
    "input = open('./input.txt', \"r\")\n",
    "rows = [[int(x) for x in line.strip(\"\\n\")] for line in input]\n",
    "input.close()"
   ]
  },
  {
   "cell_type": "markdown",
   "id": "a506a333",
   "metadata": {},
   "source": [
    "## Part 1"
   ]
  },
  {
   "cell_type": "code",
   "execution_count": 76,
   "id": "eb5b7f35",
   "metadata": {},
   "outputs": [
    {
     "data": {
      "text/plain": [
       "1637"
      ]
     },
     "execution_count": 76,
     "metadata": {},
     "output_type": "execute_result"
    }
   ],
   "source": [
    "STEPS = 100\n",
    "n_flashes = 0\n",
    "\n",
    "values = [[int(x) for x in row] for row in rows]\n",
    "\n",
    "def handle_neighbor_on_flash(flashes, values, row, col):\n",
    "    values[row][col] += 1\n",
    "        \n",
    "    if values[row][col] == 10 and not (row,col) in flashes:\n",
    "        flashes.append((row,col))\n",
    "\n",
    "for _ in range(STEPS):\n",
    "    # increment by 1\n",
    "    for row in range(len(values)):\n",
    "        for col in range(len(values[row])):\n",
    "            values[row][col] += 1\n",
    "\n",
    "    flashes = []\n",
    "\n",
    "    # determine starting flashes\n",
    "    for row in range(len(values)):\n",
    "        for col in range(len(values[row])):\n",
    "            if values[row][col] > 9:\n",
    "                flashes.append((row,col))\n",
    "\n",
    "    while len(flashes) > 0:\n",
    "        (row, col) = flashes.pop()\n",
    "\n",
    "        neighbors = [\n",
    "            (row,col-1), # left\n",
    "            (row,col+1), # right\n",
    "            (row-1,col), # up\n",
    "            (row+1,col), # down\n",
    "            (row-1,col-1), # up left\n",
    "            (row-1,col+1), # up right\n",
    "            (row+1,col-1), # down left\n",
    "            (row+1,col+1), # down right\n",
    "        ]\n",
    "\n",
    "        for n in neighbors:\n",
    "            (r,c) = n\n",
    "\n",
    "            if r >= 0 and c >= 0 and r <= len(values) - 1 and c <= len(values[0]) - 1:\n",
    "                handle_neighbor_on_flash(flashes, values, r, c)\n",
    "\n",
    "    # count and reset flashes\n",
    "    for row in range(len(values)):\n",
    "        for col in range(len(values[row])):\n",
    "            if values[row][col] > 9:\n",
    "                n_flashes += 1\n",
    "                values[row][col] = 0\n",
    "                \n",
    "n_flashes"
   ]
  },
  {
   "cell_type": "markdown",
   "id": "a1a0a93a",
   "metadata": {},
   "source": [
    "## Part 2"
   ]
  },
  {
   "cell_type": "code",
   "execution_count": 77,
   "id": "c641594d",
   "metadata": {},
   "outputs": [
    {
     "data": {
      "text/plain": [
       "242"
      ]
     },
     "execution_count": 77,
     "metadata": {},
     "output_type": "execute_result"
    }
   ],
   "source": [
    "step_count = 0\n",
    "n_flashes = 0\n",
    "\n",
    "values = [[int(x) for x in row] for row in rows]\n",
    "\n",
    "while True:\n",
    "    # increment by 1\n",
    "    for row in range(len(values)):\n",
    "        for col in range(len(values[row])):\n",
    "            values[row][col] += 1\n",
    "\n",
    "    flashes = []\n",
    "\n",
    "    # determine starting flashes\n",
    "    for row in range(len(values)):\n",
    "        for col in range(len(values[row])):\n",
    "            if values[row][col] > 9:\n",
    "                flashes.append((row,col))\n",
    "\n",
    "    while len(flashes) > 0:\n",
    "        (row, col) = flashes.pop()\n",
    "\n",
    "        neighbors = [\n",
    "            (row,col-1), # left\n",
    "            (row,col+1), # right\n",
    "            (row-1,col), # up\n",
    "            (row+1,col), # down\n",
    "            (row-1,col-1), # up left\n",
    "            (row-1,col+1), # up right\n",
    "            (row+1,col-1), # down left\n",
    "            (row+1,col+1), # down right\n",
    "        ]\n",
    "\n",
    "        for n in neighbors:\n",
    "            (r,c) = n\n",
    "\n",
    "            if r >= 0 and c >= 0 and r <= len(values) - 1 and c <= len(values[0]) - 1:\n",
    "                handle_neighbor_on_flash(flashes, values, r, c)\n",
    "                \n",
    "    all_flash = True\n",
    "\n",
    "    # count and reset flashes\n",
    "    for row in range(len(values)):\n",
    "        for col in range(len(values[row])):\n",
    "            if values[row][col] > 9:\n",
    "                n_flashes += 1\n",
    "                values[row][col] = 0\n",
    "                all_flash = all_flash & True\n",
    "            else:\n",
    "                all_flash = False\n",
    "                \n",
    "    step_count += 1\n",
    "                \n",
    "    if all_flash:\n",
    "        break\n",
    "                \n",
    "step_count"
   ]
  }
 ],
 "metadata": {
  "kernelspec": {
   "display_name": "Python 3 (ipykernel)",
   "language": "python",
   "name": "python3"
  },
  "language_info": {
   "codemirror_mode": {
    "name": "ipython",
    "version": 3
   },
   "file_extension": ".py",
   "mimetype": "text/x-python",
   "name": "python",
   "nbconvert_exporter": "python",
   "pygments_lexer": "ipython3",
   "version": "3.9.4"
  }
 },
 "nbformat": 4,
 "nbformat_minor": 5
}

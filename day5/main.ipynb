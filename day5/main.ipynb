{
 "cells": [
  {
   "cell_type": "markdown",
   "id": "146e0b50",
   "metadata": {},
   "source": [
    "# Advent of Code 2021 - Day 5"
   ]
  },
  {
   "cell_type": "markdown",
   "id": "e91339ec",
   "metadata": {},
   "source": [
    "## File Input"
   ]
  },
  {
   "cell_type": "code",
   "execution_count": 56,
   "id": "7a82af91",
   "metadata": {},
   "outputs": [],
   "source": [
    "input = open('./input.txt', \"r\")\n",
    "rows = []\n",
    "\n",
    "for line in input:\n",
    "    (start, end) = line.strip('\\n').split(\" -> \")\n",
    "    (x1,y1) = start.split(\",\")\n",
    "    (x2,y2) = end.split(\",\")\n",
    "    rows.append(((int(x1), int(y1)), (int(x2), int(y2))))\n",
    "\n",
    "input.close()"
   ]
  },
  {
   "cell_type": "markdown",
   "id": "a506a333",
   "metadata": {},
   "source": [
    "## Part 1"
   ]
  },
  {
   "cell_type": "code",
   "execution_count": 57,
   "id": "01cd6664",
   "metadata": {},
   "outputs": [
    {
     "data": {
      "text/plain": [
       "6267"
      ]
     },
     "execution_count": 57,
     "metadata": {},
     "output_type": "execute_result"
    }
   ],
   "source": [
    "def count_straight_line(point_counts, x1, y1, x2, y2):\n",
    "    # reverse any backwards lines\n",
    "    if (x1 > x2 and y1 == y2) or (x1 == x2 and y1 > y2):\n",
    "        ((x1, y1), (x2, y2)) = ((x2, y2), (x1, y1))\n",
    "    \n",
    "    for i in range(x1, x2 + 1) if y1 == y2 else range(y1, y2 + 1):\n",
    "        location = \"%d,%d\" % ((i,y1) if y1 == y2 else (x1,i))\n",
    "        \n",
    "        if location not in point_counts:\n",
    "            point_counts[location] = 0\n",
    "\n",
    "        point_counts[location] += 1\n",
    "        \n",
    "def count_danger_spots(point_counts, threshold=2):\n",
    "    danger_spots = 0\n",
    "\n",
    "    for location in point_counts:\n",
    "        if point_counts[location] >= threshold:\n",
    "            danger_spots += 1\n",
    "\n",
    "    return danger_spots\n",
    "        \n",
    "straight_lines = [line for line in rows if line[0][0] == line[1][0] or line[0][1] == line[1][1]]\n",
    "point_counts = {}\n",
    "\n",
    "for line in straight_lines:\n",
    "    (x1, y1) = line[0]\n",
    "    (x2, y2) = line[1]\n",
    "    count_straight_line(point_counts, x1, y1, x2, y2)\n",
    "\n",
    "count_danger_spots(point_counts)\n"
   ]
  },
  {
   "cell_type": "markdown",
   "id": "a1a0a93a",
   "metadata": {},
   "source": [
    "## Part 2"
   ]
  },
  {
   "cell_type": "code",
   "execution_count": 58,
   "id": "81db771f",
   "metadata": {},
   "outputs": [
    {
     "data": {
      "text/plain": [
       "20196"
      ]
     },
     "execution_count": 58,
     "metadata": {},
     "output_type": "execute_result"
    }
   ],
   "source": [
    "point_counts = {}\n",
    "\n",
    "for line in rows:\n",
    "    (x1, y1) = line[0]\n",
    "    (x2, y2) = line[1]\n",
    "    \n",
    "    if x1 == x2 or y1 == y2:\n",
    "        count_straight_line(point_counts, x1, y1, x2, y2)\n",
    "    else:\n",
    "        # reverse backwards lines\n",
    "        if x1 > x2:\n",
    "             ((x1, y1), (x2, y2)) = ((x2, y2), (x1, y1))\n",
    "        \n",
    "        y = y1\n",
    "        for x in range(x1, x2 + 1):\n",
    "            location = \"%d,%d\" % (x, y)\n",
    "            \n",
    "            if location not in point_counts:\n",
    "                point_counts[location] = 0\n",
    "                \n",
    "            point_counts[location] += 1\n",
    "            y += 1 if y1 < y2 else -1\n",
    "            \n",
    "count_danger_spots(point_counts)"
   ]
  }
 ],
 "metadata": {
  "kernelspec": {
   "display_name": "Python 3 (ipykernel)",
   "language": "python",
   "name": "python3"
  },
  "language_info": {
   "codemirror_mode": {
    "name": "ipython",
    "version": 3
   },
   "file_extension": ".py",
   "mimetype": "text/x-python",
   "name": "python",
   "nbconvert_exporter": "python",
   "pygments_lexer": "ipython3",
   "version": "3.9.4"
  }
 },
 "nbformat": 4,
 "nbformat_minor": 5
}

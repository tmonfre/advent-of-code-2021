{
 "cells": [
  {
   "cell_type": "markdown",
   "id": "146e0b50",
   "metadata": {},
   "source": [
    "# Advent of Code 2021 - Day 12"
   ]
  },
  {
   "cell_type": "markdown",
   "id": "e91339ec",
   "metadata": {},
   "source": [
    "## File Input"
   ]
  },
  {
   "cell_type": "code",
   "execution_count": 52,
   "id": "7a82af91",
   "metadata": {},
   "outputs": [],
   "source": [
    "input = open('./input.txt', \"r\")\n",
    "rows = [line.strip(\"\\n\").split(\"-\") for line in input]\n",
    "input.close()\n",
    "\n",
    "class Node:\n",
    "    def __init__(self, name):\n",
    "        self.name = name\n",
    "        self.neighbors = []\n",
    "        \n",
    "    def add_neighbor(self, neighbor):\n",
    "        self.neighbors.append(neighbor)\n",
    "        \n",
    "    def is_start(self):\n",
    "        return self.name == \"start\"\n",
    "    \n",
    "    def is_end(self):\n",
    "        return self.name == \"end\"\n",
    "        \n",
    "    def is_lower(self):\n",
    "        return self.is_start() or self.is_end() or self.name.islower()\n",
    "    \n",
    "    def __str__(self):\n",
    "        return self.name\n",
    "    \n",
    "def generate_nodes(rows):\n",
    "    nodes = {}\n",
    "\n",
    "    for connection in rows:\n",
    "        (start, end) = connection\n",
    "        \n",
    "        if start not in nodes:\n",
    "            nodes[start] = Node(start)\n",
    "        \n",
    "        if end not in nodes:\n",
    "            nodes[end] = Node(end)\n",
    "            \n",
    "    for connection in rows:\n",
    "        (start, end) = connection\n",
    "        nodes[start].add_neighbor(nodes[end])\n",
    "        nodes[end].add_neighbor(nodes[start])\n",
    "    \n",
    "    return nodes"
   ]
  },
  {
   "cell_type": "markdown",
   "id": "a506a333",
   "metadata": {},
   "source": [
    "## Part 1"
   ]
  },
  {
   "cell_type": "code",
   "execution_count": 31,
   "id": "eb5b7f35",
   "metadata": {},
   "outputs": [
    {
     "data": {
      "text/plain": [
       "10"
      ]
     },
     "execution_count": 31,
     "metadata": {},
     "output_type": "execute_result"
    }
   ],
   "source": [
    "def num_paths_from_node(nodes, start_node, visited=[]):\n",
    "    if start_node == \"end\":\n",
    "        return 1\n",
    "    \n",
    "    if nodes[start_node].is_lower():\n",
    "        visited = [i for i in visited]\n",
    "        visited.append(start_node)\n",
    "    \n",
    "    count = 0\n",
    "    \n",
    "    for n in nodes[start_node].neighbors:\n",
    "        if n.name not in visited:\n",
    "            count += num_paths_from_node(nodes, n.name, visited)\n",
    "        \n",
    "    return count\n",
    "\n",
    "num_paths_from_node(generate_nodes(rows), \"start\")"
   ]
  },
  {
   "cell_type": "markdown",
   "id": "a1a0a93a",
   "metadata": {},
   "source": [
    "## Part 2"
   ]
  },
  {
   "cell_type": "code",
   "execution_count": 53,
   "id": "c641594d",
   "metadata": {},
   "outputs": [
    {
     "data": {
      "text/plain": [
       "89592"
      ]
     },
     "execution_count": 53,
     "metadata": {},
     "output_type": "execute_result"
    }
   ],
   "source": [
    "def num_paths_from_node(nodes, start_node, visited=[], allow_second=True):\n",
    "    if start_node == \"end\":\n",
    "        return 1\n",
    "        \n",
    "    if nodes[start_node].is_lower():\n",
    "        visited = [i for i in visited]\n",
    "        visited.append(start_node)\n",
    "    \n",
    "    count = 0\n",
    "    \n",
    "    for n in nodes[start_node].neighbors:\n",
    "        if n.name not in visited:\n",
    "            count += num_paths_from_node(nodes, n.name, visited, allow_second)\n",
    "        elif allow_second and n.name != \"start\" and n.name != \"end\":\n",
    "            count += num_paths_from_node(nodes, n.name, visited, False)\n",
    "        \n",
    "    return count\n",
    "\n",
    "num_paths_from_node(generate_nodes(rows), \"start\")"
   ]
  }
 ],
 "metadata": {
  "kernelspec": {
   "display_name": "Python 3 (ipykernel)",
   "language": "python",
   "name": "python3"
  },
  "language_info": {
   "codemirror_mode": {
    "name": "ipython",
    "version": 3
   },
   "file_extension": ".py",
   "mimetype": "text/x-python",
   "name": "python",
   "nbconvert_exporter": "python",
   "pygments_lexer": "ipython3",
   "version": "3.9.4"
  }
 },
 "nbformat": 4,
 "nbformat_minor": 5
}

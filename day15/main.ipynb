{
 "cells": [
  {
   "cell_type": "markdown",
   "id": "146e0b50",
   "metadata": {},
   "source": [
    "# Advent of Code 2021 - Day 15"
   ]
  },
  {
   "cell_type": "markdown",
   "id": "e91339ec",
   "metadata": {},
   "source": [
    "## File Input"
   ]
  },
  {
   "cell_type": "code",
   "execution_count": 22,
   "id": "7a82af91",
   "metadata": {},
   "outputs": [],
   "source": [
    "input = open('./input.txt', \"r\")\n",
    "rows = [[int(x) for x in line.strip(\"\\n\")] for line in input]\n",
    "input.close()"
   ]
  },
  {
   "cell_type": "markdown",
   "id": "a506a333",
   "metadata": {},
   "source": [
    "## Part 1"
   ]
  },
  {
   "cell_type": "code",
   "execution_count": 31,
   "id": "eb5b7f35",
   "metadata": {},
   "outputs": [
    {
     "data": {
      "text/plain": [
       "423"
      ]
     },
     "execution_count": 31,
     "metadata": {},
     "output_type": "execute_result"
    }
   ],
   "source": [
    "def find_min_cost_path(mat):\n",
    "    # initialize cost matrix with zeroes\n",
    "    costs = [[0 for x in row] for row in mat]\n",
    "    costs[-1][-1] = mat[-1][-1]\n",
    "\n",
    "    # fill bottom row\n",
    "    for col in range(len(costs[-1]) - 2, -1, -1):\n",
    "        costs[-1][col] = mat[-1][col] + costs[-1][col+1]\n",
    "\n",
    "    # fill right column\n",
    "    for row in range(len(costs) - 2, -1, -1):\n",
    "        costs[row][-1] = mat[row][-1] + costs[row+1][-1]\n",
    "\n",
    "    # fill remaining\n",
    "    for row in range(len(costs[0]) - 2, -1, -1):\n",
    "        for col in range(len(costs) - 2, -1, -1):\n",
    "            # cost of cell is min of right and bottom + that cell's value\n",
    "            costs[row][col] = min(costs[row + 1][col], costs[row][col + 1]) + mat[row][col]\n",
    "                        \n",
    "    # get cost from start cell and subtract off individual value of cell\n",
    "    return costs[0][0] - mat[0][0]\n",
    "\n",
    "find_min_cost_path(rows)"
   ]
  },
  {
   "cell_type": "markdown",
   "id": "a1a0a93a",
   "metadata": {},
   "source": [
    "## Part 2"
   ]
  },
  {
   "cell_type": "code",
   "execution_count": 34,
   "id": "c641594d",
   "metadata": {},
   "outputs": [
    {
     "data": {
      "text/plain": [
       "6079"
      ]
     },
     "execution_count": 34,
     "metadata": {},
     "output_type": "execute_result"
    }
   ],
   "source": [
    "## NOTE: this is currently producing an incorrect result\n",
    "#        outputs correct answer with test input, but incorrect result with true input\n",
    "\n",
    "# generate larger matrix of rows\n",
    "skip_length = len(rows)\n",
    "matrix = [[0 for _ in range(skip_length * 5)] for _ in range(skip_length * 5)]\n",
    "\n",
    "# fill initial bank\n",
    "for row in range(len(rows)):\n",
    "    for col in range(len(rows[row])):\n",
    "        matrix[row][col] = rows[row][col]\n",
    "        \n",
    "# fill in left side banks\n",
    "for vertical_multiplier in range(1, 5):\n",
    "    for row in range(skip_length):\n",
    "        for col in range(skip_length):\n",
    "            prev_bank_val = matrix[row + ((vertical_multiplier - 1) * (skip_length))][col]\n",
    "            new_val = (prev_bank_val + 1) % skip_length\n",
    "            matrix[row + (vertical_multiplier * skip_length)][col] = new_val if new_val > 0 else 1\n",
    "\n",
    "# fill in remaining row banks\n",
    "for vertical_multiplier in range(0, 5):\n",
    "    for horizontal_multiplier in range(1, 5):\n",
    "        for row in range(skip_length):\n",
    "            for col in range(skip_length):\n",
    "                prev_bank_val = matrix[row + (vertical_multiplier * skip_length)][col + ((horizontal_multiplier - 1) * skip_length)]\n",
    "                new_val = (prev_bank_val + 1) % skip_length\n",
    "                matrix[row + (vertical_multiplier * skip_length)][col + (horizontal_multiplier * skip_length)] = new_val if new_val > 0 else 1\n",
    "\n",
    "find_min_cost_path(matrix)"
   ]
  }
 ],
 "metadata": {
  "kernelspec": {
   "display_name": "Python 3 (ipykernel)",
   "language": "python",
   "name": "python3"
  },
  "language_info": {
   "codemirror_mode": {
    "name": "ipython",
    "version": 3
   },
   "file_extension": ".py",
   "mimetype": "text/x-python",
   "name": "python",
   "nbconvert_exporter": "python",
   "pygments_lexer": "ipython3",
   "version": "3.9.4"
  }
 },
 "nbformat": 4,
 "nbformat_minor": 5
}

{
 "cells": [
  {
   "cell_type": "markdown",
   "id": "146e0b50",
   "metadata": {},
   "source": [
    "# Advent of Code 2021 - Day 17"
   ]
  },
  {
   "cell_type": "markdown",
   "id": "e91339ec",
   "metadata": {},
   "source": [
    "## File Input"
   ]
  },
  {
   "cell_type": "code",
   "execution_count": 15,
   "id": "7a82af91",
   "metadata": {},
   "outputs": [],
   "source": [
    "input = open('./input.txt', \"r\")\n",
    "rules = [[int(y) for y in x[2:].strip(\",\").split(\"..\")] for x in input.read().strip(\"target area: \").split(\" \")]\n",
    "input.close()"
   ]
  },
  {
   "cell_type": "markdown",
   "id": "a506a333",
   "metadata": {},
   "source": [
    "## Part 1"
   ]
  },
  {
   "cell_type": "code",
   "execution_count": 10,
   "id": "45f94420",
   "metadata": {},
   "outputs": [
    {
     "data": {
      "text/plain": [
       "45"
      ]
     },
     "execution_count": 10,
     "metadata": {},
     "output_type": "execute_result"
    }
   ],
   "source": [
    "def in_target_range(init_x_vel, init_y_vel, bounds):\n",
    "    x_range = range(bounds[0][0], bounds[0][1]+1)\n",
    "    y_range = range(bounds[1][0], bounds[1][1]+1)\n",
    "    \n",
    "    x = 0\n",
    "    y = 0\n",
    "    x_vel = init_x_vel\n",
    "    y_vel = init_y_vel\n",
    "    \n",
    "    iteration_count = 0\n",
    "        \n",
    "    while x <= x_range[-1] or y >= y_range[-1]:\n",
    "        x += x_vel\n",
    "        y += y_vel\n",
    "        \n",
    "        if x_vel != 0:\n",
    "            x_vel += -1 if x_vel > 0 else 1\n",
    "        \n",
    "        y_vel -= 1\n",
    "        iteration_count += 1\n",
    "                        \n",
    "        if x in x_range and y in y_range or iteration_count > 1000:\n",
    "            break\n",
    "             \n",
    "    return (x,y) if x in x_range and y in y_range else None\n",
    "\n",
    "def get_best_starting_vel(rules, bounds=1000):\n",
    "    best = (0, -1*bounds)\n",
    "\n",
    "    for x in range(bounds):\n",
    "        for y in range(-1*bounds, bounds):            \n",
    "            if in_target_range(x, y, rules) and y > best[1]:\n",
    "                best = (x,y)\n",
    "\n",
    "    return best\n",
    "\n",
    "(x_vel, y_vel) = get_best_starting_vel(rules, 100)\n",
    "sum(list(range(y_vel, 0, -1)))"
   ]
  },
  {
   "cell_type": "markdown",
   "id": "a1a0a93a",
   "metadata": {},
   "source": [
    "## Part 2"
   ]
  },
  {
   "cell_type": "code",
   "execution_count": 18,
   "id": "c641594d",
   "metadata": {},
   "outputs": [
    {
     "name": "stdout",
     "output_type": "stream",
     "text": [
      "940\n"
     ]
    }
   ],
   "source": [
    "def count_matching_init_velocities(rules, bounds=1000):\n",
    "    matching = []\n",
    "\n",
    "    for x in range(bounds):\n",
    "        for y in range(-1*bounds, bounds):\n",
    "            if in_target_range(x, y, rules):\n",
    "                matching.append((x,y))\n",
    "\n",
    "    return len(matching), matching\n",
    "        \n",
    "(n, matching) = count_matching_init_velocities(rules, 500)\n",
    "print(n)         \n",
    "        "
   ]
  }
 ],
 "metadata": {
  "kernelspec": {
   "display_name": "Python 3 (ipykernel)",
   "language": "python",
   "name": "python3"
  },
  "language_info": {
   "codemirror_mode": {
    "name": "ipython",
    "version": 3
   },
   "file_extension": ".py",
   "mimetype": "text/x-python",
   "name": "python",
   "nbconvert_exporter": "python",
   "pygments_lexer": "ipython3",
   "version": "3.9.4"
  }
 },
 "nbformat": 4,
 "nbformat_minor": 5
}

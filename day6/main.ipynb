{
 "cells": [
  {
   "cell_type": "markdown",
   "id": "146e0b50",
   "metadata": {},
   "source": [
    "# Advent of Code 2021 - Day 6"
   ]
  },
  {
   "cell_type": "markdown",
   "id": "e91339ec",
   "metadata": {},
   "source": [
    "## File Input"
   ]
  },
  {
   "cell_type": "code",
   "execution_count": 1,
   "id": "7a82af91",
   "metadata": {},
   "outputs": [],
   "source": [
    "input = open('./input.txt', \"r\")\n",
    "\n",
    "starting_fish = [int(x) for x in input.readline().split(\",\")]\n",
    "\n",
    "input.close()"
   ]
  },
  {
   "cell_type": "markdown",
   "id": "a506a333",
   "metadata": {},
   "source": [
    "## Part 1"
   ]
  },
  {
   "cell_type": "code",
   "execution_count": 2,
   "id": "01cd6664",
   "metadata": {},
   "outputs": [
    {
     "data": {
      "text/plain": [
       "360268"
      ]
     },
     "execution_count": 2,
     "metadata": {},
     "output_type": "execute_result"
    }
   ],
   "source": [
    "SIMULATION_DAYS = 80\n",
    "RESET_VALUE = 6\n",
    "SPAWN_VALUE = RESET_VALUE + 2\n",
    "\n",
    "fish = [x for x in starting_fish]\n",
    "\n",
    "for day in range(SIMULATION_DAYS):\n",
    "    new_fish = []\n",
    "    \n",
    "    for f in fish:\n",
    "        if f == 0:\n",
    "            new_fish.append(RESET_VALUE)\n",
    "            new_fish.append(SPAWN_VALUE)\n",
    "        else:\n",
    "            new_fish.append(f-1)\n",
    "    \n",
    "    fish = new_fish\n",
    "    \n",
    "len(fish)"
   ]
  },
  {
   "cell_type": "markdown",
   "id": "a1a0a93a",
   "metadata": {},
   "source": [
    "## Part 2"
   ]
  },
  {
   "cell_type": "code",
   "execution_count": 3,
   "id": "c641594d",
   "metadata": {},
   "outputs": [
    {
     "data": {
      "text/plain": [
       "1632146183902"
      ]
     },
     "execution_count": 3,
     "metadata": {},
     "output_type": "execute_result"
    }
   ],
   "source": [
    "import math\n",
    "\n",
    "SIMULATION_DAYS = 256\n",
    "\n",
    "# recursive function to count spawns\n",
    "def count_fish(curr_day, cache={}):\n",
    "    # base case - stop if in negative day\n",
    "    if (SIMULATION_DAYS - curr_day) < 0:\n",
    "        return 0\n",
    "    \n",
    "    # don't recurse if already seen subproblem\n",
    "    if curr_day in cache:\n",
    "        return cache[curr_day]\n",
    "    \n",
    "    # calculate how many new fish are spawned\n",
    "    new_fish_spawned = math.floor(1 + (SIMULATION_DAYS - 1 - curr_day) / 7)\n",
    "    count = new_fish_spawned\n",
    "    \n",
    "    # recurse on each newly spawned fish\n",
    "    for i in range(new_fish_spawned):\n",
    "        spawn_day = curr_day + (i*7)\n",
    "        count += count_fish(spawn_day + SPAWN_VALUE + 1, cache)\n",
    "    \n",
    "    # store output in cache and return\n",
    "    cache[curr_day] = count\n",
    "    return count\n",
    "\n",
    "fish = [x for x in starting_fish]\n",
    "sum([count_fish(f) for f in fish]) + len(fish)"
   ]
  }
 ],
 "metadata": {
  "kernelspec": {
   "display_name": "Python 3 (ipykernel)",
   "language": "python",
   "name": "python3"
  },
  "language_info": {
   "codemirror_mode": {
    "name": "ipython",
    "version": 3
   },
   "file_extension": ".py",
   "mimetype": "text/x-python",
   "name": "python",
   "nbconvert_exporter": "python",
   "pygments_lexer": "ipython3",
   "version": "3.9.4"
  }
 },
 "nbformat": 4,
 "nbformat_minor": 5
}

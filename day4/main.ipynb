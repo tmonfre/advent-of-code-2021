{
 "cells": [
  {
   "cell_type": "markdown",
   "id": "146e0b50",
   "metadata": {},
   "source": [
    "# Advent of Code 2021 - Day 4"
   ]
  },
  {
   "cell_type": "markdown",
   "id": "c6e05df6",
   "metadata": {},
   "source": [
    "## Setup Classes"
   ]
  },
  {
   "cell_type": "code",
   "execution_count": 227,
   "id": "21641d64",
   "metadata": {},
   "outputs": [],
   "source": [
    "def is_winner(tables):\n",
    "    for table in tables:\n",
    "        if table.has_bingo():\n",
    "            return table\n",
    "    return None\n",
    "\n",
    "def mark_all_tables(tables, number):\n",
    "    for table in tables:\n",
    "        table.mark_numbers(number)\n",
    "\n",
    "class BingoCell:\n",
    "    def __init__(self, value):\n",
    "        self.value = value\n",
    "        self.marked = False\n",
    "    \n",
    "    def is_marked(self):\n",
    "        return self.marked\n",
    "    \n",
    "    def set_marked(self):\n",
    "        self.marked = True\n",
    "        \n",
    "    def __str__(self):\n",
    "        return str(self.value)\n",
    "        \n",
    "class BingoTable:\n",
    "    def __init__(self, rows):\n",
    "        self.rows = [[BingoCell(x) for x in row] for row in rows]\n",
    "        \n",
    "    def has_bingo(self):\n",
    "        # check horizontals\n",
    "        for row_num in range(len(self.rows)):\n",
    "            found_unmarked = False\n",
    "            for col_num in range(len(self.rows[row_num])):\n",
    "                if not self.rows[row_num][col_num].is_marked():\n",
    "                    found_unmarked = True\n",
    "            \n",
    "            if not found_unmarked:\n",
    "                return True\n",
    "        \n",
    "        # check verticals\n",
    "        for col_num in range(len(self.rows[row_num])):\n",
    "            found_unmarked = False\n",
    "            for row_num in range(len(self.rows)):\n",
    "                if not self.rows[row_num][col_num].is_marked():\n",
    "                    found_unmarked = True\n",
    "            \n",
    "            if not found_unmarked:\n",
    "                return True\n",
    "            \n",
    "        return False\n",
    "\n",
    "    def get_sum_unmarked(self):\n",
    "        sum = 0\n",
    "\n",
    "        for row_num in range(len(self.rows)):\n",
    "                for col_num in range(len(self.rows[row_num])):\n",
    "                    cell = self.rows[row_num][col_num]\n",
    "                    sum += cell.value if not cell.is_marked() else 0\n",
    "\n",
    "        return sum\n",
    "\n",
    "    def mark_numbers(self, number):\n",
    "        for row in self.rows:\n",
    "            for cell in row:\n",
    "                if cell.value == number:\n",
    "                    cell.set_marked()"
   ]
  },
  {
   "cell_type": "markdown",
   "id": "e91339ec",
   "metadata": {},
   "source": [
    "## File Input"
   ]
  },
  {
   "cell_type": "code",
   "execution_count": 228,
   "id": "7a82af91",
   "metadata": {},
   "outputs": [],
   "source": [
    "input = open('./input.txt', \"r\")\n",
    "rows = []\n",
    "\n",
    "for line in input:\n",
    "    rows.append(line.strip('\\n'))\n",
    "\n",
    "input.close()\n",
    "\n",
    "bingo_numbers = [int(num) for num in rows[0].split(\",\")]\n",
    "\n",
    "def generate_bingo_tables(rows):\n",
    "    bingo_tables = []\n",
    "\n",
    "    for bingo_start in range(2, len(rows), 6):\n",
    "        bingo_rows = []\n",
    "\n",
    "        for bingo_row in range(bingo_start, bingo_start + 5):\n",
    "            bingo_rows.append([int(x) for x in rows[bingo_row].split()])\n",
    "\n",
    "        bingo_tables.append(BingoTable(bingo_rows))\n",
    "        \n",
    "    return bingo_tables"
   ]
  },
  {
   "cell_type": "markdown",
   "id": "a506a333",
   "metadata": {},
   "source": [
    "## Part 1"
   ]
  },
  {
   "cell_type": "code",
   "execution_count": 229,
   "id": "01cd6664",
   "metadata": {},
   "outputs": [
    {
     "data": {
      "text/plain": [
       "58374"
      ]
     },
     "execution_count": 229,
     "metadata": {},
     "output_type": "execute_result"
    }
   ],
   "source": [
    "bingo_tables = generate_bingo_tables(rows)\n",
    "\n",
    "pick_index = 0\n",
    "winner = None\n",
    "\n",
    "while (winner := is_winner(bingo_tables)) is None:\n",
    "    drawn_number = bingo_numbers[pick_index]\n",
    "    mark_all_tables(bingo_tables, drawn_number)\n",
    "    pick_index += 1\n",
    "\n",
    "winner.get_sum_unmarked() * drawn_number"
   ]
  },
  {
   "cell_type": "markdown",
   "id": "a1a0a93a",
   "metadata": {},
   "source": [
    "## Part 2"
   ]
  },
  {
   "cell_type": "code",
   "execution_count": 230,
   "id": "81db771f",
   "metadata": {},
   "outputs": [
    {
     "data": {
      "text/plain": [
       "11377"
      ]
     },
     "execution_count": 230,
     "metadata": {},
     "output_type": "execute_result"
    }
   ],
   "source": [
    "remaining_tables = generate_bingo_tables(rows)\n",
    "pick_index = 0\n",
    "\n",
    "# find last table to win\n",
    "while len(remaining_tables) > 1:\n",
    "    drawn_number = bingo_numbers[pick_index]\n",
    "    pick_index += 1\n",
    "    mark_all_tables(remaining_tables, drawn_number)\n",
    "        \n",
    "    remaining_tables = [table for table in remaining_tables if not table.has_bingo()]\n",
    "\n",
    "last_table = remaining_tables[0]\n",
    "\n",
    "# wait until last table wins\n",
    "while not last_table.has_bingo():\n",
    "    drawn_number = bingo_numbers[pick_index]\n",
    "    pick_index += 1\n",
    "    last_table.mark_numbers(drawn_number)\n",
    "        \n",
    "last_table.get_sum_unmarked() * drawn_number"
   ]
  },
  {
   "cell_type": "code",
   "execution_count": null,
   "id": "9560597f",
   "metadata": {},
   "outputs": [],
   "source": []
  }
 ],
 "metadata": {
  "kernelspec": {
   "display_name": "Python 3 (ipykernel)",
   "language": "python",
   "name": "python3"
  },
  "language_info": {
   "codemirror_mode": {
    "name": "ipython",
    "version": 3
   },
   "file_extension": ".py",
   "mimetype": "text/x-python",
   "name": "python",
   "nbconvert_exporter": "python",
   "pygments_lexer": "ipython3",
   "version": "3.9.4"
  }
 },
 "nbformat": 4,
 "nbformat_minor": 5
}

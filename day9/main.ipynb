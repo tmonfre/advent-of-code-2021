{
 "cells": [
  {
   "cell_type": "markdown",
   "id": "146e0b50",
   "metadata": {},
   "source": [
    "# Advent of Code 2021 - Day 8"
   ]
  },
  {
   "cell_type": "markdown",
   "id": "e91339ec",
   "metadata": {},
   "source": [
    "## File Input"
   ]
  },
  {
   "cell_type": "code",
   "execution_count": 110,
   "id": "7a82af91",
   "metadata": {},
   "outputs": [],
   "source": [
    "input = open('./input.txt', \"r\")\n",
    "\n",
    "rows = []\n",
    "\n",
    "for line in input:\n",
    "    rows.append([int(x) for x in line.strip(\"\\n\")])\n",
    "\n",
    "input.close()"
   ]
  },
  {
   "cell_type": "markdown",
   "id": "a506a333",
   "metadata": {},
   "source": [
    "## Part 1"
   ]
  },
  {
   "cell_type": "code",
   "execution_count": 111,
   "id": "01cd6664",
   "metadata": {},
   "outputs": [
    {
     "data": {
      "text/plain": [
       "452"
      ]
     },
     "execution_count": 111,
     "metadata": {},
     "output_type": "execute_result"
    }
   ],
   "source": [
    "def is_low_point(rows, row, col):\n",
    "    left_val = rows[row][col-1] if col > 0 else None\n",
    "    right_val = rows[row][col+1] if col < len(rows[0]) - 1 else None\n",
    "    up_val = rows[row-1][col] if row > 0 else None\n",
    "    down_val = rows[row+1][col] if row < len(rows) - 1 else None\n",
    "    \n",
    "    val = rows[row][col]\n",
    "    \n",
    "    return (left_val is None or val < left_val) \\\n",
    "        and (right_val is None or val < right_val) \\\n",
    "        and (up_val is None or val < up_val) \\\n",
    "        and (down_val is None or val < down_val)\n",
    "\n",
    "risk_levels = 0\n",
    "\n",
    "for row in range(len(rows)):\n",
    "    for col in range(len(rows[row])):\n",
    "        if is_low_point(rows, row, col):\n",
    "            risk_levels += 1 + rows[row][col]\n",
    "            \n",
    "risk_levels\n",
    "        "
   ]
  },
  {
   "cell_type": "markdown",
   "id": "a1a0a93a",
   "metadata": {},
   "source": [
    "## Part 2"
   ]
  },
  {
   "cell_type": "code",
   "execution_count": 112,
   "id": "c641594d",
   "metadata": {},
   "outputs": [
    {
     "data": {
      "text/plain": [
       "1263735"
      ]
     },
     "execution_count": 112,
     "metadata": {},
     "output_type": "execute_result"
    }
   ],
   "source": [
    "# basic location class for marking visited\n",
    "class Location:\n",
    "    def __init__(self, value, row, col):\n",
    "        self.value = value\n",
    "        self.row = row\n",
    "        self.col = col\n",
    "        self.marked = False\n",
    "        \n",
    "    def is_marked(self):\n",
    "        return self.marked\n",
    "    \n",
    "    def set_marked(self, marked):\n",
    "        self.marked = marked\n",
    "        \n",
    "    def __str__(self):\n",
    "        return str(self.value)\n",
    "        \n",
    "locations = [[] for i in range(len(rows))]\n",
    "low_points = []\n",
    "\n",
    "# generate objects and find low points\n",
    "for row in range(len(rows)):\n",
    "    for col in range(len(rows[row])):\n",
    "        locations[row].append(Location(rows[row][col], row, col))\n",
    "        \n",
    "        if is_low_point(rows, row, col):\n",
    "            low_points.append((row,col))\n",
    "                        \n",
    "basin_sizes = []\n",
    "\n",
    "# perform basic BFS for each low point to determine size\n",
    "for low_point in low_points:    \n",
    "    (row, col) = low_point\n",
    "    size = 0    \n",
    "    queue = [locations[row][col]]\n",
    "        \n",
    "    while len(queue) > 0:\n",
    "        l = queue.pop()\n",
    "        if l.is_marked(): continue\n",
    "        l.set_marked(True)\n",
    "        size += 1\n",
    "        \n",
    "        left_val = locations[l.row][l.col-1] if l.col > 0 else None\n",
    "        right_val = locations[l.row][l.col+1] if l.col < len(locations[0]) - 1 else None\n",
    "        up_val = locations[l.row-1][l.col] if l.row > 0 else None\n",
    "        down_val = locations[l.row+1][l.col] if l.row < len(locations) - 1 else None\n",
    "                                \n",
    "        for location in [left_val, right_val, up_val, down_val]:\n",
    "            if location is not None and location.value != 9 and not location.is_marked():        \n",
    "                queue.append(location)\n",
    "                \n",
    "    basin_sizes.append(size)\n",
    "\n",
    "# multiply three largest together\n",
    "basin_sizes.sort()\n",
    "basin_sizes[-1] * basin_sizes[-2] * basin_sizes[-3]"
   ]
  },
  {
   "cell_type": "code",
   "execution_count": null,
   "id": "09e91511",
   "metadata": {},
   "outputs": [],
   "source": []
  }
 ],
 "metadata": {
  "kernelspec": {
   "display_name": "Python 3 (ipykernel)",
   "language": "python",
   "name": "python3"
  },
  "language_info": {
   "codemirror_mode": {
    "name": "ipython",
    "version": 3
   },
   "file_extension": ".py",
   "mimetype": "text/x-python",
   "name": "python",
   "nbconvert_exporter": "python",
   "pygments_lexer": "ipython3",
   "version": "3.9.4"
  }
 },
 "nbformat": 4,
 "nbformat_minor": 5
}

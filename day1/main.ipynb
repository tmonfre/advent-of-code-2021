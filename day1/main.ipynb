{
 "cells": [
  {
   "cell_type": "markdown",
   "id": "146e0b50",
   "metadata": {},
   "source": [
    "# Advent of Code 2021 - Day 1"
   ]
  },
  {
   "cell_type": "markdown",
   "id": "e91339ec",
   "metadata": {},
   "source": [
    "## File Input"
   ]
  },
  {
   "cell_type": "code",
   "execution_count": 3,
   "id": "7a82af91",
   "metadata": {},
   "outputs": [],
   "source": [
    "input = open(\"./input.txt\", \"r\")\n",
    "rows = []\n",
    "\n",
    "for line in input:\n",
    "    rows.append(int(line.strip('\\n')))\n",
    "\n",
    "input.close()"
   ]
  },
  {
   "cell_type": "markdown",
   "id": "e8bae84b",
   "metadata": {},
   "source": [
    "## Helpers"
   ]
  },
  {
   "cell_type": "code",
   "execution_count": 4,
   "id": "b94f1679",
   "metadata": {},
   "outputs": [],
   "source": [
    "def num_increasing_intervals(values):\n",
    "    sum = 0\n",
    "\n",
    "    for i in range(1, len(values)):\n",
    "        if values[i] > values[i-1]:\n",
    "            sum += 1\n",
    "    \n",
    "    return sum"
   ]
  },
  {
   "cell_type": "markdown",
   "id": "a506a333",
   "metadata": {},
   "source": [
    "## Part 1"
   ]
  },
  {
   "cell_type": "code",
   "execution_count": 5,
   "id": "01cd6664",
   "metadata": {},
   "outputs": [
    {
     "data": {
      "text/plain": [
       "1532"
      ]
     },
     "execution_count": 5,
     "metadata": {},
     "output_type": "execute_result"
    }
   ],
   "source": [
    "num_increasing_intervals(rows)"
   ]
  },
  {
   "cell_type": "markdown",
   "id": "a1a0a93a",
   "metadata": {},
   "source": [
    "## Part 2"
   ]
  },
  {
   "cell_type": "code",
   "execution_count": 6,
   "id": "81db771f",
   "metadata": {},
   "outputs": [
    {
     "data": {
      "text/plain": [
       "1571"
      ]
     },
     "execution_count": 6,
     "metadata": {},
     "output_type": "execute_result"
    }
   ],
   "source": [
    "accum_sums = []\n",
    "\n",
    "for i in range(len(rows) - 2):\n",
    "    accum_sums.append(rows[i] + rows[i+1] + rows[i+2])\n",
    "\n",
    "num_increasing_intervals(accum_sums)"
   ]
  }
 ],
 "metadata": {
  "kernelspec": {
   "display_name": "Python 3 (ipykernel)",
   "language": "python",
   "name": "python3"
  },
  "language_info": {
   "codemirror_mode": {
    "name": "ipython",
    "version": 3
   },
   "file_extension": ".py",
   "mimetype": "text/x-python",
   "name": "python",
   "nbconvert_exporter": "python",
   "pygments_lexer": "ipython3",
   "version": "3.9.4"
  }
 },
 "nbformat": 4,
 "nbformat_minor": 5
}

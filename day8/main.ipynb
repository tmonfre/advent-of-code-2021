{
 "cells": [
  {
   "cell_type": "markdown",
   "id": "146e0b50",
   "metadata": {},
   "source": [
    "# Advent of Code 2021 - Day 8"
   ]
  },
  {
   "cell_type": "markdown",
   "id": "e91339ec",
   "metadata": {},
   "source": [
    "## File Input"
   ]
  },
  {
   "cell_type": "code",
   "execution_count": 19,
   "id": "7a82af91",
   "metadata": {},
   "outputs": [],
   "source": [
    "input = open('./input.txt', \"r\")\n",
    "\n",
    "rows = []\n",
    "\n",
    "for line in input:\n",
    "    row = line.strip(\"\\n\").split(\" | \")\n",
    "    rows.append((row[0].split(\" \"), row[1].split(\" \")))\n",
    "\n",
    "input.close()"
   ]
  },
  {
   "cell_type": "markdown",
   "id": "a506a333",
   "metadata": {},
   "source": [
    "## Part 1"
   ]
  },
  {
   "cell_type": "code",
   "execution_count": 20,
   "id": "01cd6664",
   "metadata": {},
   "outputs": [
    {
     "data": {
      "text/plain": [
       "440"
      ]
     },
     "execution_count": 20,
     "metadata": {},
     "output_type": "execute_result"
    }
   ],
   "source": [
    "digit_combinations = {\n",
    "    2: 1,\n",
    "    4: 4,\n",
    "    3: 7,\n",
    "    7: 8\n",
    "}\n",
    "\n",
    "times = 0\n",
    "\n",
    "for row in rows:\n",
    "    for word in row[1]:\n",
    "        if len(word) in digit_combinations:\n",
    "            times += 1\n",
    "            \n",
    "times"
   ]
  },
  {
   "cell_type": "markdown",
   "id": "a1a0a93a",
   "metadata": {},
   "source": [
    "## Part 2"
   ]
  },
  {
   "cell_type": "code",
   "execution_count": 21,
   "id": "c641594d",
   "metadata": {},
   "outputs": [
    {
     "data": {
      "text/plain": [
       "1046281"
      ]
     },
     "execution_count": 21,
     "metadata": {},
     "output_type": "execute_result"
    }
   ],
   "source": [
    "def sort_word(word):\n",
    "    return \"\".join(sorted(word))\n",
    "\n",
    "def get_word_for_digit(digit):\n",
    "    return {v: k for k, v in mappings.items()}[digit]\n",
    "\n",
    "OUTPUT_SUM_SCALERS = [1000, 100, 10, 1]\n",
    "output_sum = 0\n",
    "\n",
    "for row in rows:\n",
    "    train_words = [sort_word(word) for word in row[0]]\n",
    "    test_words = [sort_word(word) for word in row[1]]\n",
    "\n",
    "    mappings = {}\n",
    "    digit_positions = {}\n",
    "\n",
    "    # find unique length words\n",
    "    for word in train_words:\n",
    "        if len(word) == 2:\n",
    "            mappings[word] = 1\n",
    "        elif len(word) == 3:\n",
    "            mappings[word] = 7\n",
    "        elif len(word) == 7:\n",
    "            mappings[word] = 8  \n",
    "        elif len(word) == 4:\n",
    "            mappings[word] = 4\n",
    "            \n",
    "    digit_positions[0] = get_word_for_digit(7).replace(get_word_for_digit(1)[0], \"\").replace(get_word_for_digit(1)[1], \"\")\n",
    "    \n",
    "    train_words = [word for word in train_words if sort_word(word) not in mappings]\n",
    "    five_digit_words = [word for word in train_words if len(word) == 5]\n",
    "    six_digit_words = [word for word in train_words if len(word) == 6]\n",
    "    \n",
    "    # find word corresponding to digit 6\n",
    "    for word in six_digit_words:\n",
    "        if get_word_for_digit(1)[0] not in word or get_word_for_digit(1)[1] not in word:\n",
    "            mappings[word] = 6\n",
    "            six_digit_words.remove(word)\n",
    "\n",
    "            digit_positions[2] = get_word_for_digit(1)[1] if get_word_for_digit(1)[0] in word else get_word_for_digit(1)[0]\n",
    "            digit_positions[5] = get_word_for_digit(1)[0] if get_word_for_digit(1)[0] in word else get_word_for_digit(1)[1]\n",
    "            \n",
    "    pos_13 = get_word_for_digit(4).replace(get_word_for_digit(1)[0], \"\").replace(get_word_for_digit(1)[1], \"\")\n",
    "                            \n",
    "    # find word corresponding to digit 5\n",
    "    for word in five_digit_words:                        \n",
    "        if digit_positions[0] in word and digit_positions[5] in word and (pos_13[0] in word and pos_13[1] in word):\n",
    "            mappings[word] = 5\n",
    "            five_digit_words.remove(word)\n",
    "            digit_positions[6] = word\\\n",
    "                .replace(digit_positions[0], \"\")\\\n",
    "                .replace(digit_positions[5], \"\")\\\n",
    "                .replace(pos_13[0], \"\")\\\n",
    "                .replace(pos_13[1], \"\")\n",
    "                        \n",
    "    # find word corresponding to digit 9\n",
    "    for word in six_digit_words:\n",
    "        if digit_positions[0] in word and digit_positions[2] in word and digit_positions[5] in word and digit_positions[6] in word and (pos_13[0] in word and pos_13[1] in word):\n",
    "            mappings[word] = 9\n",
    "            six_digit_words.remove(word)\n",
    "                                    \n",
    "    # find word corresponding to 3\n",
    "    for word in five_digit_words:\n",
    "        if digit_positions[0] in word and digit_positions[2] in word and digit_positions[5] in word and digit_positions[6] in word:\n",
    "            mappings[word] = 3\n",
    "            five_digit_words.remove(word)\n",
    "            digit_positions[3] = word\\\n",
    "                .replace(digit_positions[0], \"\")\\\n",
    "                .replace(digit_positions[2], \"\")\\\n",
    "                .replace(digit_positions[5], \"\")\\\n",
    "                .replace(digit_positions[6], \"\")\n",
    "\n",
    "    # find remaining digits\n",
    "    mappings[five_digit_words[0]] = 2\n",
    "    mappings[six_digit_words[0]] = 0\n",
    "    \n",
    "    # compute value for this row and add to sum\n",
    "    for i in range(len(test_words)):\n",
    "        output_sum += mappings[test_words[i]] * OUTPUT_SUM_SCALERS[i]\n",
    "\n",
    "output_sum"
   ]
  },
  {
   "cell_type": "code",
   "execution_count": null,
   "id": "09e91511",
   "metadata": {},
   "outputs": [],
   "source": []
  }
 ],
 "metadata": {
  "kernelspec": {
   "display_name": "Python 3 (ipykernel)",
   "language": "python",
   "name": "python3"
  },
  "language_info": {
   "codemirror_mode": {
    "name": "ipython",
    "version": 3
   },
   "file_extension": ".py",
   "mimetype": "text/x-python",
   "name": "python",
   "nbconvert_exporter": "python",
   "pygments_lexer": "ipython3",
   "version": "3.9.4"
  }
 },
 "nbformat": 4,
 "nbformat_minor": 5
}

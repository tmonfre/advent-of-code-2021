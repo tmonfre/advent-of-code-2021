{
 "cells": [
  {
   "cell_type": "markdown",
   "id": "146e0b50",
   "metadata": {},
   "source": [
    "# Advent of Code 2021 - Day 2"
   ]
  },
  {
   "cell_type": "markdown",
   "id": "e91339ec",
   "metadata": {},
   "source": [
    "## File Input"
   ]
  },
  {
   "cell_type": "code",
   "execution_count": 1,
   "id": "7a82af91",
   "metadata": {},
   "outputs": [],
   "source": [
    "input = open('./input.txt', \"r\")\n",
    "rows = []\n",
    "\n",
    "for line in input:\n",
    "    (command, amount) = line.strip('\\n').split(\" \")\n",
    "    rows.append((command, int(amount)))\n",
    "\n",
    "input.close()"
   ]
  },
  {
   "cell_type": "markdown",
   "id": "a506a333",
   "metadata": {},
   "source": [
    "## Part 1"
   ]
  },
  {
   "cell_type": "code",
   "execution_count": 2,
   "id": "01cd6664",
   "metadata": {},
   "outputs": [
    {
     "data": {
      "text/plain": [
       "1989014"
      ]
     },
     "execution_count": 2,
     "metadata": {},
     "output_type": "execute_result"
    }
   ],
   "source": [
    "position = 0\n",
    "depth = 0\n",
    "\n",
    "for (command, amount) in rows:\n",
    "    if command == \"forward\":\n",
    "        position += amount\n",
    "    elif command == \"down\":\n",
    "        depth += amount\n",
    "    elif command == \"up\":\n",
    "        depth -= amount\n",
    "    \n",
    "position * depth"
   ]
  },
  {
   "cell_type": "markdown",
   "id": "a1a0a93a",
   "metadata": {},
   "source": [
    "## Part 2"
   ]
  },
  {
   "cell_type": "code",
   "execution_count": 3,
   "id": "81db771f",
   "metadata": {},
   "outputs": [
    {
     "data": {
      "text/plain": [
       "2006917119"
      ]
     },
     "execution_count": 3,
     "metadata": {},
     "output_type": "execute_result"
    }
   ],
   "source": [
    "position = 0\n",
    "depth = 0\n",
    "aim = 0\n",
    "\n",
    "for (command, amount) in rows:\n",
    "    if command == \"forward\":\n",
    "        position += amount\n",
    "        depth += (aim * amount)\n",
    "    elif command == \"down\":\n",
    "        aim += amount\n",
    "    elif command == \"up\":\n",
    "        aim -= amount\n",
    "    \n",
    "position * depth"
   ]
  }
 ],
 "metadata": {
  "kernelspec": {
   "display_name": "Python 3 (ipykernel)",
   "language": "python",
   "name": "python3"
  },
  "language_info": {
   "codemirror_mode": {
    "name": "ipython",
    "version": 3
   },
   "file_extension": ".py",
   "mimetype": "text/x-python",
   "name": "python",
   "nbconvert_exporter": "python",
   "pygments_lexer": "ipython3",
   "version": "3.9.4"
  }
 },
 "nbformat": 4,
 "nbformat_minor": 5
}
